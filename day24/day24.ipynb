{
 "cells": [
  {
   "cell_type": "code",
   "execution_count": null,
   "id": "1666b822",
   "metadata": {},
   "outputs": [],
   "source": [
    "from collections import defaultdict"
   ]
  },
  {
   "cell_type": "code",
   "execution_count": null,
   "id": "d9c9c2df",
   "metadata": {},
   "outputs": [],
   "source": [
    "from collections import deque\n",
    "from typing import Union"
   ]
  },
  {
   "cell_type": "code",
   "execution_count": null,
   "id": "e33fe9fe",
   "metadata": {},
   "outputs": [],
   "source": [
    "Var = str"
   ]
  },
  {
   "cell_type": "code",
   "execution_count": null,
   "id": "7aa5c2fc",
   "metadata": {},
   "outputs": [],
   "source": [
    "class VM:\n",
    "    def __init__(self):\n",
    "        self.instructions = [('inp', 'z'), ('inp', 'x'), ('mul','z',3), ('eql', 'z', 'x')]\n",
    "        self.buffer = iter([2, 6])\n",
    "        self.memory = {var: 0 for var in \"wxyz\"}\n",
    "        self.ip = 0\n",
    "        \n",
    "    def start(self):\n",
    "        while self.ip < len(self.instructions):\n",
    "            self.step()\n",
    "            input()\n",
    "        \n",
    "    def step(self):\n",
    "        cmd, *args = self.instructions[self.ip]\n",
    "        self.ip += 1\n",
    "        \n",
    "        if cmd == \"inp\":\n",
    "            self.execute_inp(*args)\n",
    "        elif cmd == \"add\":\n",
    "            self.execute_add(*args)\n",
    "        elif cmd == \"mul\":\n",
    "            self.execute_mul(*args)\n",
    "        elif cmd == \"div\":\n",
    "            self.execute_div(*args)\n",
    "        elif cmd == \"mod\":\n",
    "            self.execute_mod(*args)\n",
    "        else:\n",
    "            self.execute_eql(*args)\n",
    "            \n",
    "        print(cmd, self.memory)\n",
    "        \n",
    "    def execute_inp(self, var):\n",
    "        self.memory[var] = next(self.buffer)\n",
    "    \n",
    "    def execute_add(self, var: Var, rhs: Union[Var,int]):\n",
    "        if isinstance(rhs, Var):\n",
    "            rhs = self.memory[rhs]\n",
    "        self.memory[var] += rhs\n",
    "    \n",
    "    def execute_mul(self, var: Var, rhs: Union[Var,int]):\n",
    "        if isinstance(rhs, Var):\n",
    "            rhs = self.memory[rhs]\n",
    "        self.memory[var] *= rhs\n",
    "    \n",
    "    def execute_div(self, var: Var, rhs: Union[Var,int]):\n",
    "        if isinstance(rhs, Var):\n",
    "            rhs = self.memory[rhs]\n",
    "        self.memory[var] /= rhs\n",
    "    \n",
    "    def execute_mod(self, var: Var, rhs: Union[Var,int]):\n",
    "        if isinstance(rhs, Var):\n",
    "            rhs = self.memory[rhs]\n",
    "        self.memory[var] %= rhs\n",
    "    \n",
    "    def execute_eql(self, var: Var, rhs: Union[Var,int]):\n",
    "        if isinstance(rhs, Var):\n",
    "            rhs = self.memory[rhs]\n",
    "        self.memory[var] = 1 if self.memory[var] == rhs else 0\n",
    "        \n",
    "    ###\n",
    "        \n",
    "    def execute_inp(self, var):\n",
    "        self.memory[var] = next(self.buffer)\n",
    "    \n",
    "    def reverse_add(self, var: Var, rhs: Union[Var,int]):\n",
    "        if isinstance(rhs, Var):\n",
    "            rhs = self.memory[rhs]\n",
    "        self.memory[var] -= rhs\n",
    "    \n",
    "    def reverse_mul(self, var: Var, rhs: Union[Var,int]):\n",
    "        if isinstance(rhs, Var):\n",
    "            rhs = self.memory[rhs]\n",
    "        self.memory[var] /= rhs\n",
    "    \n",
    "#     def execute_div(self, var: Var, rhs: Union[Var,int]):\n",
    "#         if isinstance(rhs, Var):\n",
    "#             rhs = self.memory[rhs]\n",
    "#         self.memory[var] /= rhs\n",
    "    \n",
    "#     def execute_mod(self, var: Var, rhs: Union[Var,int]):\n",
    "#         if isinstance(rhs, Var):\n",
    "#             rhs = self.memory[rhs]\n",
    "#         self.memory[var] %= rhs\n",
    "    \n",
    "    def reverse_eql(self, var: Var, rhs: Union[Var,int]):\n",
    "        if isinstance(rhs, Var):\n",
    "            rhs = self.memory[rhs]\n",
    "        self.memory[var] = rhs if self.memory[var] == 1 else 0"
   ]
  },
  {
   "cell_type": "code",
   "execution_count": null,
   "id": "9d1c028b",
   "metadata": {},
   "outputs": [],
   "source": [
    "vm = VM()"
   ]
  },
  {
   "cell_type": "code",
   "execution_count": null,
   "id": "c9f2e9a5",
   "metadata": {},
   "outputs": [],
   "source": [
    "vm.start()"
   ]
  },
  {
   "cell_type": "code",
   "execution_count": null,
   "id": "03e38b86",
   "metadata": {},
   "outputs": [],
   "source": [
    "\"\"\"inp z\n",
    "inp x\n",
    "mul z 3\n",
    "eql z x\"\"\".split(\"\\n\")"
   ]
  },
  {
   "cell_type": "code",
   "execution_count": null,
   "id": "163a97dc",
   "metadata": {},
   "outputs": [],
   "source": [
    "vm.push()"
   ]
  },
  {
   "cell_type": "code",
   "execution_count": null,
   "id": "5e4b7dbd",
   "metadata": {},
   "outputs": [],
   "source": [
    "from pyterator import iterate"
   ]
  },
  {
   "cell_type": "code",
   "execution_count": null,
   "id": "2ddeb1be",
   "metadata": {},
   "outputs": [],
   "source": [
    "inp = \"\"\"inp w\n",
    "add z w\n",
    "mod z 2\n",
    "div w 2\n",
    "add y w\n",
    "mod y 2\n",
    "div w 2\n",
    "add x w\n",
    "mod x 2\n",
    "div w 2\n",
    "mod w 2\"\"\""
   ]
  },
  {
   "cell_type": "code",
   "execution_count": null,
   "id": "49454616",
   "metadata": {},
   "outputs": [],
   "source": []
  },
  {
   "cell_type": "code",
   "execution_count": null,
   "id": "e0877d41",
   "metadata": {},
   "outputs": [],
   "source": [
    "(\n",
    "    iterate(inp.split(\"\\n\"))\n",
    "    .map(parse_instruction)\n",
    "    .debug()\n",
    ")"
   ]
  },
  {
   "cell_type": "code",
   "execution_count": null,
   "id": "78533cf4",
   "metadata": {},
   "outputs": [],
   "source": [
    "def parse_instruction(line: str):\n",
    "    cmd, *args = line.split()\n",
    "    \n",
    "    if cmd == \"inp\":\n",
    "        return cmd, *args\n",
    "    else:\n",
    "        arg1, arg2 = args\n",
    "        arg2 = int(arg2) if arg2.isdigit() else arg2\n",
    "        return cmd, arg1, arg2"
   ]
  },
  {
   "cell_type": "code",
   "execution_count": null,
   "id": "d6f5e45e",
   "metadata": {},
   "outputs": [],
   "source": [
    "f = lambda x,z: x != z"
   ]
  },
  {
   "cell_type": "code",
   "execution_count": null,
   "id": "8666be0f",
   "metadata": {},
   "outputs": [],
   "source": [
    "g = lambda x,z: f(x//3,z)"
   ]
  },
  {
   "cell_type": "code",
   "execution_count": null,
   "id": "238d3c87",
   "metadata": {},
   "outputs": [],
   "source": [
    "g(9,3)"
   ]
  },
  {
   "cell_type": "code",
   "execution_count": null,
   "id": "8558364b",
   "metadata": {},
   "outputs": [],
   "source": [
    "@lru_cache()\n",
    "def g(x,z):\n",
    "    return f(x//3,z)"
   ]
  },
  {
   "cell_type": "code",
   "execution_count": null,
   "id": "16d5222b",
   "metadata": {},
   "outputs": [],
   "source": [
    "from functools import lru_cache"
   ]
  },
  {
   "cell_type": "code",
   "execution_count": null,
   "id": "20786132",
   "metadata": {},
   "outputs": [],
   "source": [
    "%%time\n",
    "g(9,3)"
   ]
  },
  {
   "cell_type": "code",
   "execution_count": null,
   "id": "a651a424",
   "metadata": {},
   "outputs": [],
   "source": [
    "from pyterator import iterate"
   ]
  },
  {
   "cell_type": "code",
   "execution_count": null,
   "id": "561018b9",
   "metadata": {},
   "outputs": [],
   "source": [
    "f = open(\"day24.txt\", \"r\")"
   ]
  },
  {
   "cell_type": "code",
   "execution_count": null,
   "id": "a659f627",
   "metadata": {},
   "outputs": [],
   "source": [
    "f.seek(0)\n",
    "hmm = iterate(f).map(str.strip).map(lambda line: line.split()[-1]).chunked(18).to_list()\n",
    "list(zip(*hmm))"
   ]
  },
  {
   "cell_type": "code",
   "execution_count": null,
   "id": "b9b98441",
   "metadata": {},
   "outputs": [],
   "source": [
    "f.seek(0)\n",
    "lines = (iterate(f).map(str.strip).map(parse).filter_map(optimise).to_list())\n",
    "print(\"\\n\".join(lines))"
   ]
  },
  {
   "cell_type": "code",
   "execution_count": null,
   "id": "8ffe7965",
   "metadata": {},
   "outputs": [],
   "source": [
    "iterate([1,2,3]).chunked(2).all()"
   ]
  },
  {
   "cell_type": "code",
   "execution_count": null,
   "id": "47a08900",
   "metadata": {},
   "outputs": [],
   "source": [
    "iterate([[1],[1],[1]]).map(tuple).to_set()"
   ]
  },
  {
   "cell_type": "code",
   "execution_count": null,
   "id": "e8b7a345",
   "metadata": {},
   "outputs": [],
   "source": [
    "set([1,3],[1,2])"
   ]
  },
  {
   "cell_type": "code",
   "execution_count": null,
   "id": "8133ee2c",
   "metadata": {},
   "outputs": [],
   "source": [
    "def parse(line):\n",
    "    cmd, *args = line.split()\n",
    "    if cmd == \"inp\":\n",
    "        return f\"{args[0]} = input()\"\n",
    "    elif cmd == \"eql\":\n",
    "        return f\"{args[0]} = int({args[0]}=={args[1]})\"\n",
    "    else:\n",
    "        return f\"{args[0]} {translate(cmd)} {args[1]}\""
   ]
  },
  {
   "cell_type": "code",
   "execution_count": null,
   "id": "f6515117",
   "metadata": {},
   "outputs": [],
   "source": [
    "d = 6"
   ]
  },
  {
   "cell_type": "code",
   "execution_count": null,
   "id": "9249c37e",
   "metadata": {},
   "outputs": [],
   "source": [
    "d //=4"
   ]
  },
  {
   "cell_type": "code",
   "execution_count": null,
   "id": "e0ac8e02",
   "metadata": {},
   "outputs": [],
   "source": [
    "d "
   ]
  },
  {
   "cell_type": "code",
   "execution_count": null,
   "id": "a8975ece",
   "metadata": {},
   "outputs": [],
   "source": [
    "def translate(cmd):\n",
    "    if cmd==\"add\":\n",
    "        return \"+=\"\n",
    "    elif cmd==\"mod\":\n",
    "        return \"%=\"\n",
    "    elif cmd==\"div\":\n",
    "        return \"//=\"\n",
    "    elif cmd==\"mul\":\n",
    "        return \"*=\""
   ]
  },
  {
   "cell_type": "code",
   "execution_count": null,
   "id": "f4716d24",
   "metadata": {},
   "outputs": [],
   "source": [
    "def optimise(line):\n",
    "    if line.endswith(\"*= 0\"):\n",
    "        return line[0] + \" = 0\"\n",
    "    elif line.endswith(\"//= 1\"):\n",
    "        return None\n",
    "    else:\n",
    "        return line"
   ]
  },
  {
   "cell_type": "code",
   "execution_count": null,
   "id": "1cd2ae7a",
   "metadata": {},
   "outputs": [],
   "source": [
    "[\"x = 0\", \"x += w\"]"
   ]
  },
  {
   "cell_type": "code",
   "execution_count": null,
   "id": "307928f2",
   "metadata": {},
   "outputs": [],
   "source": [
    "remove = []\n",
    "for i, line in enumerate(lines):\n",
    "    if line.endswith(\" = 0\"):\n",
    "        #print(line)\n",
    "        arg, *_ = line\n",
    "        # Lookahead\n",
    "        next_arg, _, rhs = lines[i+1].split()\n",
    "        if arg==next_arg:\n",
    "            remove.append(i)\n",
    "            lines[i+1] = f\"{arg} = {rhs}\"\n",
    "# print(remove)\n",
    "for i in reversed(remove):\n",
    "    del lines[i]\n",
    "print(\"\\n\".join(lines))"
   ]
  },
  {
   "cell_type": "code",
   "execution_count": null,
   "id": "0319de25",
   "metadata": {},
   "outputs": [],
   "source": [
    "print(lines)"
   ]
  },
  {
   "cell_type": "code",
   "execution_count": null,
   "id": "6762d431",
   "metadata": {},
   "outputs": [],
   "source": [
    "args = (1,2)"
   ]
  },
  {
   "cell_type": "code",
   "execution_count": null,
   "id": "75a64ab0",
   "metadata": {},
   "outputs": [],
   "source": [
    "f\"{*args}\""
   ]
  },
  {
   "cell_type": "code",
   "execution_count": null,
   "id": "2f182739",
   "metadata": {},
   "outputs": [],
   "source": [
    "a = [1, 1, 1, 26, 1, 1, 1, 26, 26, 1, 26, 26, 26, 26]\n",
    "b = [14, 12, 11, -4, 10, 10, 15, -9, -9, 12, -15, -7, -10, 0]\n",
    "c = [7, 4, 8, 1, 5, 14, 12, 10, 5, 7, 6, 8, 4, 6]\n",
    "\n",
    "@lru_cache()\n",
    "def small_alu(i, w, z) -> tuple:\n",
    "    x = ((z % 26) + b[i]) != w\n",
    "    z = (z//a[i])*(25*x) + 1 + (w+c[i])*x\n",
    "    return z"
   ]
  },
  {
   "cell_type": "code",
   "execution_count": 43,
   "id": "db347b99",
   "metadata": {},
   "outputs": [],
   "source": [
    "a = [1, 1, 1, 26, 1, 1, 1, 26, 26, 1, 26, 26, 26, 26]\n",
    "b = [14, 12, 11, -4, 10, 10, 15, -9, -9, 12, -15, -7, -10, 0]\n",
    "c = [7, 4, 8, 1, 5, 14, 12, 10, 5, 7, 6, 8, 4, 6]\n",
    "\n",
    "@lru_cache()\n",
    "def small_alu(pos: int, w, z):\n",
    "    \n",
    "    x = ((z % 26) + b[pos]) != w\n",
    "    \n",
    "    return (z//a[pos] * (25*x+1)) + (w+c[pos])*x"
   ]
  },
  {
   "cell_type": "code",
   "execution_count": null,
   "id": "119cd0e9",
   "metadata": {},
   "outputs": [],
   "source": [
    "small_alu.lru_cache"
   ]
  },
  {
   "cell_type": "code",
   "execution_count": 46,
   "id": "5a73c159",
   "metadata": {},
   "outputs": [],
   "source": [
    "def find(pos=13,final_z=0):\n",
    "\n",
    "    for digit in range(1,9+1):\n",
    "        for z in range(-1_000_000,1_000_000):\n",
    "            h = small_alu(pos,digit,z)\n",
    "            can = final_z==h\n",
    "            if pos==0 and can:\n",
    "                return \"nice\"\n",
    "            elif pos==0 and can!=0:\n",
    "                return\n",
    "            elif pos>0 and can:\n",
    "                print(pos, digit)\n",
    "                return find(pos-1,h)\n",
    "            else:\n",
    "                continue"
   ]
  },
  {
   "cell_type": "code",
   "execution_count": 47,
   "id": "33db35f7",
   "metadata": {},
   "outputs": [
    {
     "name": "stdout",
     "output_type": "stream",
     "text": [
      "13 1\n",
      "12 1\n",
      "11 1\n",
      "10 1\n"
     ]
    }
   ],
   "source": [
    "find()"
   ]
  },
  {
   "cell_type": "code",
   "execution_count": null,
   "id": "dada667a",
   "metadata": {},
   "outputs": [],
   "source": [
    "def small_alu(i, w, x, y, z) -> tuple:\n",
    "    x = z % 26\n",
    "    z = z // a[i]\n",
    "    x = x + b[i]\n",
    "    x = x!=w\n",
    "    \n",
    "    y = (25*x)+1\n",
    "    \n",
    "    z = z * y\n",
    "    \n",
    "    y = (w+c[i])*x\n",
    "    z = z + y\n",
    "    \n",
    "    return z"
   ]
  },
  {
   "cell_type": "code",
   "execution_count": null,
   "id": "98b6e263",
   "metadata": {},
   "outputs": [],
   "source": [
    "for model in range(11_111_111_111_111,99_999_999_999_999):\n",
    "    \n",
    "    if model%1_000_000==0:\n",
    "        print(model)\n",
    "\n",
    "    z = 0\n",
    "    for pos,digit in enumerate(f\"{model:0>14}\"):\n",
    "        if digit==0:\n",
    "            continue\n",
    "        z = small_alu(pos, int(digit), z)\n",
    "    \n",
    "    if z==0:\n",
    "        break"
   ]
  },
  {
   "cell_type": "code",
   "execution_count": null,
   "id": "1139d2d7",
   "metadata": {},
   "outputs": [],
   "source": [
    "25%26"
   ]
  },
  {
   "cell_type": "code",
   "execution_count": null,
   "id": "0c434f70",
   "metadata": {},
   "outputs": [],
   "source": [
    "[int(x) for x in c]"
   ]
  },
  {
   "cell_type": "code",
   "execution_count": null,
   "id": "c24fb4f9",
   "metadata": {},
   "outputs": [],
   "source": [
    "1-False"
   ]
  },
  {
   "cell_type": "code",
   "execution_count": null,
   "id": "c810903e",
   "metadata": {},
   "outputs": [],
   "source": [
    "def find():\n",
    "    \n",
    "    for model in range(11111111111111,99999999999999+1):\n",
    "    \n",
    "        z = 0\n",
    "        for i,num in enumerate(str(model)):\n",
    "            z = small_alu(i,int(num),z)\n",
    "            print(z)\n",
    "        \n",
    "        if z==0:\n",
    "            return model"
   ]
  },
  {
   "cell_type": "code",
   "execution_count": null,
   "id": "e0f4fe05",
   "metadata": {},
   "outputs": [],
   "source": [
    "str(1234)"
   ]
  },
  {
   "cell_type": "code",
   "execution_count": 42,
   "id": "ef146b4f",
   "metadata": {},
   "outputs": [],
   "source": [
    "from functools import lru_cache"
   ]
  },
  {
   "cell_type": "code",
   "execution_count": null,
   "id": "0f04b8f6",
   "metadata": {},
   "outputs": [],
   "source": [
    "x = 10\n",
    "f\"{x:0>14}\""
   ]
  },
  {
   "cell_type": "code",
   "execution_count": null,
   "id": "79c24b88",
   "metadata": {},
   "outputs": [],
   "source": [
    "small_alu(10,10,0,0,0)"
   ]
  },
  {
   "cell_type": "code",
   "execution_count": null,
   "id": "a429c45b",
   "metadata": {},
   "outputs": [],
   "source": [
    "find()"
   ]
  },
  {
   "cell_type": "code",
   "execution_count": null,
   "id": "186e860c",
   "metadata": {},
   "outputs": [],
   "source": [
    "10*True"
   ]
  },
  {
   "cell_type": "code",
   "execution_count": null,
   "id": "b30d1188",
   "metadata": {},
   "outputs": [],
   "source": []
  }
 ],
 "metadata": {
  "kernelspec": {
   "display_name": "Python 3 (ipykernel)",
   "language": "python",
   "name": "python3"
  },
  "language_info": {
   "codemirror_mode": {
    "name": "ipython",
    "version": 3
   },
   "file_extension": ".py",
   "mimetype": "text/x-python",
   "name": "python",
   "nbconvert_exporter": "python",
   "pygments_lexer": "ipython3",
   "version": "3.9.7"
  }
 },
 "nbformat": 4,
 "nbformat_minor": 5
}
