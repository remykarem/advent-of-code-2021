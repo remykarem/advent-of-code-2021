{
 "cells": [
  {
   "cell_type": "markdown",
   "id": "150a4782",
   "metadata": {},
   "source": [
    "# Day 17"
   ]
  },
  {
   "cell_type": "code",
   "execution_count": 2,
   "id": "7ed97723",
   "metadata": {},
   "outputs": [],
   "source": [
    "x_min, x_max = 139, 187\n",
    "y_min, y_max = -148, -89"
   ]
  },
  {
   "cell_type": "markdown",
   "id": "db29f3df",
   "metadata": {},
   "source": [
    "## Part 1"
   ]
  },
  {
   "cell_type": "markdown",
   "id": "16d927e4",
   "metadata": {},
   "source": [
    "Assume $y_{min}$, $y_{max}$ < 0."
   ]
  },
  {
   "cell_type": "markdown",
   "id": "151db0c0",
   "metadata": {},
   "source": [
    "The value of $y$ at any time step $n \\geq 0$ can be given by\n",
    "\n",
    "$$\n",
    "y_n = \\frac{n}{2}[2a_y + (n-1)d]\n",
    "$$\n",
    "\n",
    "which is the sum of an arithmetic progression (AP) with first term $a_y$ and $d=-1$."
   ]
  },
  {
   "cell_type": "markdown",
   "id": "643745ec",
   "metadata": {},
   "source": [
    "1. Find all $n$'s such that $y_n<0$.\n",
    "\n",
    "    $$\n",
    "    \\begin{align}\n",
    "    y_n &< 0 \\\\\n",
    "    \\frac{n}{2}(2a_y - n + 1) &< 0 \\\\\n",
    "    n &> 2a_y + 1 \\\\\n",
    "    n &\\geq 2a_y + 2\n",
    "    \\end{align}\n",
    "    $$\n",
    "    \n",
    "2. Find all $a$'s that lie in the blue region\n",
    "\n",
    "$$\n",
    "-y_{max}-1 \\leq a \\leq -y_{min} - 1\n",
    "$$\n",
    "\n",
    "3. A max $y$ implies that $a$ must be maximum too.\n",
    "\n",
    "$$\n",
    "a_y = \\max_{-y_{max}-1 \\leq a \\leq -y_{min} - 1} a = -y_{min} - 1 = -(-148)-1 = 147\n",
    "$$\n",
    "\n",
    "4. $\\max y_n$ occurs when arithmetic progression term is 0.\n",
    "\n",
    "$$\n",
    "\\begin{align}\n",
    "a_y + (n-1) d &= 0 \\\\\n",
    "a_y + (n-1) (-1) &= 0 \\\\\n",
    "n &= 148\n",
    "\\end{align}\n",
    "$$\n",
    "\n",
    "So the maximum occurs at $n = 148$ with value $y_{148} = 10878$."
   ]
  },
  {
   "cell_type": "markdown",
   "id": "f7984c85",
   "metadata": {},
   "source": [
    "## Part 2"
   ]
  },
  {
   "cell_type": "markdown",
   "id": "70911e41",
   "metadata": {},
   "source": [
    "$S_y(a,n)$ is the sum of arithmetic progression with first term $a_y$."
   ]
  },
  {
   "cell_type": "code",
   "execution_count": 19,
   "id": "108688d2",
   "metadata": {},
   "outputs": [],
   "source": [
    "def Sy(a,n):\n",
    "    return n/2*(2*a-n+1)"
   ]
  },
  {
   "cell_type": "markdown",
   "id": "cb32e488",
   "metadata": {},
   "source": [
    "Similarly, $S_x(a,n)$ is the sum of AP for $x$. However, after the AP term becomes 0 (when $n = a_x+1$), it becomes a constant $\\frac{1}{2}a_x(a_x+1)$ (by substituting $n = a_x+1$ into the AP)."
   ]
  },
  {
   "cell_type": "code",
   "execution_count": 20,
   "id": "50695e5e",
   "metadata": {},
   "outputs": [],
   "source": [
    "def Sx(a,n):\n",
    "    if n < a+1:\n",
    "        return n/2*(2*a-n+1)\n",
    "    else:\n",
    "        return 1/2*a*(a+1)"
   ]
  },
  {
   "cell_type": "markdown",
   "id": "a468ffe4",
   "metadata": {},
   "source": [
    "1. $n$'s upper bound is the maximum of:\n",
    "\n",
    "    * $x_{max}$\n",
    "    \n",
    "    * the value of $n$ when $y_n$ is maximum (from previous question)\n",
    "    \n",
    "2. $a_y$'s lower bound should be $y_min$ because anything lower than this won't hit the target. The upper bound is the value of $a$ when $y$ is maximised, i.e. 147 from the previous question."
   ]
  },
  {
   "cell_type": "markdown",
   "id": "b1c27f33",
   "metadata": {},
   "source": [
    "Brute force, $O(n^3)$ time."
   ]
  },
  {
   "cell_type": "code",
   "execution_count": 22,
   "id": "f6952ca8",
   "metadata": {},
   "outputs": [
    {
     "name": "stdout",
     "output_type": "stream",
     "text": [
      "CPU times: user 62.6 ms, sys: 3.63 ms, total: 66.2 ms\n",
      "Wall time: 66.4 ms\n"
     ]
    },
    {
     "data": {
      "text/plain": [
       "4716"
      ]
     },
     "execution_count": 22,
     "metadata": {},
     "output_type": "execute_result"
    }
   ],
   "source": [
    "%%time\n",
    "\n",
    "initials = set()\n",
    "\n",
    "for n in range(1, max(x_max,2*(-y_min-1)+2)+1):\n",
    "            \n",
    "    for a_y in range(y_min, 147+1):\n",
    "        if not y_min <= Sy(a_y,n) <= y_max:\n",
    "            continue\n",
    "            \n",
    "        for a_x in range(1, x_max+1):\n",
    "            if not x_min <= Sx(a_x,n) <= x_max:\n",
    "                continue\n",
    "\n",
    "            initials.add((a_x,a_y))\n",
    "\n",
    "len(initials)"
   ]
  },
  {
   "cell_type": "code",
   "execution_count": null,
   "id": "8c12a678",
   "metadata": {},
   "outputs": [],
   "source": []
  }
 ],
 "metadata": {
  "kernelspec": {
   "display_name": "Python 3 (ipykernel)",
   "language": "python",
   "name": "python3"
  },
  "language_info": {
   "codemirror_mode": {
    "name": "ipython",
    "version": 3
   },
   "file_extension": ".py",
   "mimetype": "text/x-python",
   "name": "python",
   "nbconvert_exporter": "python",
   "pygments_lexer": "ipython3",
   "version": "3.9.7"
  }
 },
 "nbformat": 4,
 "nbformat_minor": 5
}
