{
 "cells": [
  {
   "cell_type": "code",
   "execution_count": 37,
   "id": "cb0217a8",
   "metadata": {},
   "outputs": [],
   "source": [
    "def go(end = 1000):\n",
    "\n",
    "    turn = 1\n",
    "    scores = [0,0]\n",
    "    spaces = [7,6]\n",
    "\n",
    "    while not any(map(lambda x: x>=end,scores)):\n",
    "\n",
    "        player_id = (turn-1)%2\n",
    "        rolls = range(turn*3-2,turn*3+1)\n",
    "        spaces[player_id] = move(spaces[player_id], rolls)\n",
    "        scores[player_id] += spaces[player_id]\n",
    "        \n",
    "        turn += 1\n",
    "\n",
    "    return turn*3 * min(scores)\n"
   ]
  },
  {
   "cell_type": "code",
   "execution_count": 38,
   "id": "74289e0c",
   "metadata": {},
   "outputs": [
    {
     "data": {
      "text/plain": [
       "673920"
      ]
     },
     "execution_count": 38,
     "metadata": {},
     "output_type": "execute_result"
    }
   ],
   "source": [
    "go()"
   ]
  },
  {
   "cell_type": "code",
   "execution_count": 32,
   "id": "872690fb",
   "metadata": {},
   "outputs": [],
   "source": [
    "def move(start, rolls) -> int:\n",
    "    space = (start + sum(rolls))%10\n",
    "    if space == 0:\n",
    "        return 10\n",
    "    else:\n",
    "        return space\n"
   ]
  },
  {
   "cell_type": "code",
   "execution_count": null,
   "id": "1cd48f1f",
   "metadata": {},
   "outputs": [],
   "source": [
    "assert move(10,7+8+9) == 4\n",
    "assert move(6,19+20+21) == 6"
   ]
  },
  {
   "cell_type": "code",
   "execution_count": null,
   "id": "6a0d8ddb",
   "metadata": {},
   "outputs": [],
   "source": []
  }
 ],
 "metadata": {
  "kernelspec": {
   "display_name": "Python 3 (ipykernel)",
   "language": "python",
   "name": "python3"
  },
  "language_info": {
   "codemirror_mode": {
    "name": "ipython",
    "version": 3
   },
   "file_extension": ".py",
   "mimetype": "text/x-python",
   "name": "python",
   "nbconvert_exporter": "python",
   "pygments_lexer": "ipython3",
   "version": "3.9.7"
  }
 },
 "nbformat": 4,
 "nbformat_minor": 5
}
