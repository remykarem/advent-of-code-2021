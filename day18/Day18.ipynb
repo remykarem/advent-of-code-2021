{
 "cells": [
  {
   "cell_type": "code",
   "execution_count": 1,
   "id": "3b7ba74d",
   "metadata": {},
   "outputs": [],
   "source": [
    "from __future__ import annotations\n",
    "from collections import UserList, deque\n",
    "from typing import Union, List\n",
    "from pyterator import iterate\n",
    "import enum"
   ]
  },
  {
   "cell_type": "code",
   "execution_count": 2,
   "id": "4e04630d",
   "metadata": {},
   "outputs": [],
   "source": [
    "class Direction(enum.Enum):\n",
    "    LEFT = 0\n",
    "    RIGHT = 1\n",
    "    \n",
    "    def __invert__(self):\n",
    "        return list(Direction)[1-self.value]"
   ]
  },
  {
   "cell_type": "code",
   "execution_count": 3,
   "id": "5fe19526",
   "metadata": {},
   "outputs": [],
   "source": [
    "NEST_LEVEL = 4\n",
    "\n",
    "class Snf(UserList):\n",
    "    \n",
    "    def __init__(self, data):\n",
    "        # assume every ch is <10\n",
    "        if isinstance(data, str):\n",
    "            self.data = [int(x) if x.isdigit() else x \n",
    "                         for x in data]\n",
    "        elif isinstance(data, list):\n",
    "            self.data = data\n",
    "        else:\n",
    "            raise ValueError\n",
    "\n",
    "            \n",
    "    def __repr__(self) -> str:\n",
    "        return \"\".join([str(x) for x in self])\n",
    "    \n",
    "    \n",
    "    def __add__(self, rhs: Snailfish) -> Snf:\n",
    "        snf = Snf([\"[\"] + self.data + [\",\"] + rhs.data + [\"]\"] )\n",
    "        snf.reduce_()\n",
    "        return snf\n",
    "    \n",
    "    \n",
    "    def reduce_(self):\n",
    "        while True:\n",
    "            while start_end := self.get_nested_indices():\n",
    "                self.explode_(*start_end)\n",
    "                \n",
    "            indices_bignums = self.indices_big_numbers()\n",
    "            if not indices_bignums:\n",
    "                break\n",
    "\n",
    "            for i in indices_bignums:\n",
    "                self.split_at_(i)\n",
    "                if self.get_nested_indices():\n",
    "                    break\n",
    "                \n",
    "                \n",
    "    def reduce(self) -> Snf:\n",
    "        snf = Snf(self.data.copy())\n",
    "        snf.reduce_()\n",
    "        return snf\n",
    "    \n",
    "    \n",
    "    def get_nested_indices(self) -> Optional[tuple]:\n",
    "        \"\"\"The indices including the brackets\"\"\"\n",
    "        stack = []\n",
    "        for i, ch in enumerate(self):\n",
    "            if ch == '[':\n",
    "                stack.append(ch)\n",
    "            elif ch == ']':\n",
    "                stack.pop()\n",
    "\n",
    "            if len(stack) == NEST_LEVEL+1: # 1 includes the outermost sq bracket\n",
    "                # Lookahead\n",
    "                j = i + 1\n",
    "                while self[j] != ']':\n",
    "                    j += 1\n",
    "                return i, j\n",
    "\n",
    "        return None\n",
    "\n",
    "    \n",
    "    def explode_(self, start, end):\n",
    "        direction = self.get_nearest_direction(start, end)\n",
    "        self.add_nearest_(start, end, direction)\n",
    "        self.add_nearest_(start, end, ~direction)\n",
    "        del self[start:end]\n",
    "    \n",
    "\n",
    "    def __delitem__(self, indices: Union[slice,int]):\n",
    "        del self.data[indices]  # default behaviour\n",
    "        if isinstance(indices, slice):\n",
    "            self[indices.start] = 0\n",
    "    \n",
    "    \n",
    "    def split_at_(self, idx):\n",
    "        assert is_int(self[idx]) and self[idx] > 9\n",
    "        \n",
    "        left, addend = divmod(self[idx], 2)\n",
    "        to_add = [\"[\", left, \",\", left+addend, \"]\"]\n",
    "        del self[idx]\n",
    "        self.data = self.data[:idx] + to_add + self.data[idx:]\n",
    "    \n",
    "    \n",
    "    def get_nearest_direction(self, start, end) -> Direction:\n",
    "        assert start >= 1\n",
    "        if self[start-1] == ',':\n",
    "            return Direction.LEFT\n",
    "        else:\n",
    "            return Direction.RIGHT\n",
    "        \n",
    "        \n",
    "    def add_nearest_(self, start, end, direction):\n",
    "\n",
    "        if direction==Direction.RIGHT:\n",
    "            begin, diff, tmp = end, +1, self[end-1]\n",
    "        else:\n",
    "            begin, diff, tmp = start, -1, self[start+1]\n",
    "\n",
    "        i = begin+diff\n",
    "        while 0<=i<len(self) and not is_int(self[i]):\n",
    "            i += diff\n",
    "\n",
    "        if not 0<=i<len(self):\n",
    "            return\n",
    "        \n",
    "        self[i] += tmp\n",
    "        \n",
    "        \n",
    "    def indices_big_numbers(self) -> list:\n",
    "        idx = [i for i,x in enumerate(self) if is_int(x) and x > 9]\n",
    "        idx = [x+i*4 for i,x in enumerate(idx)]\n",
    "        return idx"
   ]
  },
  {
   "cell_type": "code",
   "execution_count": 4,
   "id": "1ab4af40",
   "metadata": {},
   "outputs": [],
   "source": [
    "def is_int(x):\n",
    "    return isinstance(x, int)"
   ]
  },
  {
   "cell_type": "code",
   "execution_count": null,
   "id": "d5991440",
   "metadata": {},
   "outputs": [],
   "source": [
    "assert Snf([\"[\", 15, \",\", 1, \"]\"]).reduce() == Snf(\"[[7,8],1]\")\n",
    "assert Snf([\"[\", 14, \",\", 1, \"]\"]).reduce() == Snf(\"[[7,7],1]\")"
   ]
  },
  {
   "cell_type": "code",
   "execution_count": null,
   "id": "7fc98fbd",
   "metadata": {},
   "outputs": [],
   "source": [
    "Snf([\"[\", 15, \",\", 1, \"]\"]).indices_big_numbers()"
   ]
  },
  {
   "cell_type": "code",
   "execution_count": null,
   "id": "aa08f7ee",
   "metadata": {},
   "outputs": [],
   "source": [
    "snf = Snf(\"[[[[0,7],4],[15,[0,13]]],[1,1]]\")\n",
    "del snf[13]\n",
    "snf[13] = 15\n"
   ]
  },
  {
   "cell_type": "code",
   "execution_count": null,
   "id": "e07855cf",
   "metadata": {},
   "outputs": [],
   "source": [
    "inputs = [(\"\"\"[1,1]\n",
    "[2,2]\n",
    "[3,3]\n",
    "[4,4]\"\"\", \"[[[[1,1],[2,2]],[3,3]],[4,4]]\"),\n",
    "(\"\"\"[1,1]\n",
    "[2,2]\n",
    "[3,3]\n",
    "[4,4]\n",
    "[5,5]\"\"\", \"[[[[3,0],[5,3]],[4,4]],[5,5]]\"),\n",
    "(\"\"\"[1,1]\n",
    "[2,2]\n",
    "[3,3]\n",
    "[4,4]\n",
    "[5,5]\n",
    "[6,6]\"\"\", \"[[[[5,0],[7,4]],[5,5]],[6,6]]\")]"
   ]
  },
  {
   "cell_type": "code",
   "execution_count": null,
   "id": "e461691f",
   "metadata": {},
   "outputs": [],
   "source": [
    "for inp, expected in inputs:\n",
    "    assert iterate(inp.split()).map(Snf).reduce(lambda a,b: a+b) == Snf(expected)"
   ]
  },
  {
   "cell_type": "code",
   "execution_count": null,
   "id": "138a4b1b",
   "metadata": {},
   "outputs": [],
   "source": [
    "assert Snf(\"[[[[[9,8],1],2],3],4]\").reduce() == Snf(\"[[[[0,9],2],3],4]\")\n",
    "assert Snf(\"[7,[6,[5,[4,[3,2]]]]]\").reduce() == Snf(\"[7,[6,[5,[7,0]]]]\")\n",
    "assert Snf(\"[[6,[5,[4,[3,2]]]],1]\").reduce() == Snf(\"[[6,[5,[7,0]]],3]\")\n",
    "assert Snf(\"[[3,[2,[1,[7,3]]]],[6,[5,[4,[3,2]]]]]\").reduce() == Snf(\"[[3,[2,[8,0]]],[9,[5,[7,0]]]]\")\n",
    "assert Snf(\"[[3,[2,[8,0]]],[9,[5,[4,[3,2]]]]]\").reduce() == Snf(\"[[3,[2,[8,0]]],[9,[5,[7,0]]]]\")"
   ]
  },
  {
   "cell_type": "code",
   "execution_count": null,
   "id": "01882fbc",
   "metadata": {},
   "outputs": [],
   "source": [
    "assert Snf(\"[[[[4,3],4],4],[7,[[8,4],9]]]\") + Snf(\"[1,1]\") == Snf(\"[[[[0,7],4],[[7,8],[6,0]]],[8,1]]\")"
   ]
  },
  {
   "cell_type": "code",
   "execution_count": null,
   "id": "cb365aea",
   "metadata": {},
   "outputs": [],
   "source": [
    "inp = \"\"\"[[[0,[4,5]],[0,0]],[[[4,5],[2,6]],[9,5]]]\n",
    "[7,[[[3,7],[4,3]],[[6,3],[8,8]]]]\n",
    "[[2,[[0,8],[3,4]]],[[[6,7],1],[7,[1,6]]]]\n",
    "[[[[2,4],7],[6,[0,5]]],[[[6,8],[2,8]],[[2,1],[4,5]]]]\n",
    "[7,[5,[[3,8],[1,4]]]]\n",
    "[[2,[2,2]],[8,[8,1]]]\n",
    "[2,9]\n",
    "[1,[[[9,3],9],[[9,0],[0,7]]]]\n",
    "[[[5,[7,4]],7],1]\n",
    "[[[[4,2],2],6],[8,7]]\"\"\""
   ]
  },
  {
   "cell_type": "code",
   "execution_count": null,
   "id": "68afb3d5",
   "metadata": {},
   "outputs": [],
   "source": [
    "assert iterate(inp.split()).map(Snf).reduce(lambda a,b: a+b) == Snf(\"[[[[8,7],[7,7]],[[8,6],[7,7]]],[[[0,7],[6,6]],[8,7]]]\")"
   ]
  },
  {
   "cell_type": "code",
   "execution_count": 5,
   "id": "0ce89eed",
   "metadata": {},
   "outputs": [],
   "source": [
    "def magnitude(pair: List[int]):\n",
    "    \n",
    "    if is_int(pair):\n",
    "        return pair\n",
    "    \n",
    "    lhs, rhs = pair\n",
    "    return 3*magnitude(lhs) + 2*magnitude(rhs)"
   ]
  },
  {
   "cell_type": "code",
   "execution_count": null,
   "id": "540d14f9",
   "metadata": {},
   "outputs": [],
   "source": [
    "assert magnitude([9,1]) == 29\n",
    "assert magnitude([1,9]) == 21\n",
    "assert magnitude([[9,1],[1,9]]) == 129\n",
    "assert magnitude([[1,2],[[3,4],5]]) == 143\n",
    "assert magnitude([[[[0,7],4],[[7,8],[6,0]]],[8,1]])\n",
    "assert magnitude([[[[1,1],[2,2]],[3,3]],[4,4]]) == 445\n",
    "assert magnitude([[[[3,0],[5,3]],[4,4]],[5,5]]) == 791\n",
    "assert magnitude([[[[5,0],[7,4]],[5,5]],[6,6]]) == 1137\n",
    "assert magnitude([[[[8,7],[7,7]],[[8,6],[7,7]]],[[[0,7],[6,6]],[8,7]]]) == 3488\n"
   ]
  },
  {
   "cell_type": "code",
   "execution_count": null,
   "id": "554edf9b",
   "metadata": {},
   "outputs": [],
   "source": [
    "inp = \"\"\"[[[0,[5,8]],[[1,7],[9,6]]],[[4,[1,2]],[[1,4],2]]]\n",
    "[[[5,[2,8]],4],[5,[[9,9],0]]]\n",
    "[6,[[[6,2],[5,6]],[[7,6],[4,7]]]]\n",
    "[[[6,[0,7]],[0,9]],[4,[9,[9,0]]]]\n",
    "[[[7,[6,4]],[3,[1,3]]],[[[5,5],1],9]]\n",
    "[[6,[[7,3],[3,2]]],[[[3,8],[5,7]],4]]\n",
    "[[[[5,4],[7,7]],8],[[8,3],8]]\n",
    "[[9,3],[[9,9],[6,[4,9]]]]\n",
    "[[2,[[7,7],7]],[[5,8],[[9,3],[0,2]]]]\n",
    "[[[[5,2],5],[8,[3,7]]],[[5,[7,5]],[4,4]]]\"\"\""
   ]
  },
  {
   "cell_type": "code",
   "execution_count": null,
   "id": "ff267bc3",
   "metadata": {},
   "outputs": [],
   "source": [
    "answer = iterate(inp.split()).map(Snf).reduce(lambda a,b: a+b)\n",
    "answer"
   ]
  },
  {
   "cell_type": "code",
   "execution_count": null,
   "id": "ea711025",
   "metadata": {},
   "outputs": [],
   "source": [
    "assert answer == Snf(\"[[[[6,6],[7,6]],[[7,7],[7,0]]],[[[7,7],[7,7]],[[7,8],[9,9]]]]\")"
   ]
  },
  {
   "cell_type": "code",
   "execution_count": null,
   "id": "35a3461b",
   "metadata": {},
   "outputs": [],
   "source": [
    "answer = eval(str(answer))\n",
    "answer"
   ]
  },
  {
   "cell_type": "code",
   "execution_count": null,
   "id": "631e4515",
   "metadata": {},
   "outputs": [],
   "source": [
    "magnitude(answer)"
   ]
  },
  {
   "cell_type": "code",
   "execution_count": 6,
   "id": "36ae35e1",
   "metadata": {},
   "outputs": [],
   "source": [
    "inp = \"\"\"[[[[3,9],[0,5]],[4,6]],3]\n",
    "[[[8,[3,0]],[[8,4],[9,4]]],[[[0,9],4],[[3,8],2]]]\n",
    "[3,[3,[[2,8],[1,4]]]]\n",
    "[8,[[3,6],[[8,9],[4,1]]]]\n",
    "[[3,[[5,8],[3,3]]],[[[9,3],[6,3]],[[7,0],[8,8]]]]\n",
    "[[6,[[5,8],7]],[8,[[1,6],7]]]\n",
    "[[[[8,6],[9,3]],[3,[2,7]]],[[[6,7],[2,8]],[6,7]]]\n",
    "[[[9,[1,6]],0],[[7,3],[2,4]]]\n",
    "[[[[4,9],3],6],[[7,5],8]]\n",
    "[[[[8,3],8],[2,[6,5]]],[[6,[1,9]],[0,2]]]\n",
    "[[[9,9],[[9,8],1]],[[[7,4],[1,4]],[[1,1],4]]]\n",
    "[[5,[[8,2],[8,6]]],[9,[7,[8,9]]]]\n",
    "[[4,6],[8,[3,[1,2]]]]\n",
    "[[[2,[7,9]],7],[[2,0],[9,2]]]\n",
    "[[4,9],[[[3,4],[2,9]],5]]\n",
    "[[[[0,0],[3,7]],[[6,1],8]],[[[4,0],4],8]]\n",
    "[[4,[[8,9],[2,2]]],[[[1,8],[2,7]],[[6,8],0]]]\n",
    "[[7,5],[[7,0],1]]\n",
    "[[[5,[1,0]],1],[[[7,7],[2,2]],[[4,2],8]]]\n",
    "[[[7,1],[7,3]],[2,0]]\n",
    "[[[[6,2],3],[3,[5,2]]],[[7,2],[[9,5],[0,1]]]]\n",
    "[[[[0,3],2],6],9]\n",
    "[[[9,8],[[7,8],[5,9]]],[[[4,8],[0,2]],[[6,8],[2,3]]]]\n",
    "[2,[[3,7],9]]\n",
    "[[[9,9],1],[7,[7,[5,8]]]]\n",
    "[[8,[1,1]],[8,8]]\n",
    "[[[[3,3],[1,4]],[[5,3],4]],[5,2]]\n",
    "[[[[0,9],1],[[3,8],8]],[9,[[8,8],[0,7]]]]\n",
    "[[[9,4],1],[[9,7],[[6,1],[9,5]]]]\n",
    "[[[1,[4,0]],9],[[3,7],2]]\n",
    "[[[5,[0,5]],[5,[9,2]]],[[[2,2],[8,0]],[3,[7,8]]]]\n",
    "[[[[8,2],3],3],[[[5,4],[0,5]],9]]\n",
    "[[[3,[6,2]],0],[[[7,3],[6,3]],[[6,3],2]]]\n",
    "[[6,1],[[[1,2],2],[9,4]]]\n",
    "[[[1,[9,0]],[[8,2],[4,9]]],[[0,[9,6]],[[0,4],[4,0]]]]\n",
    "[9,[4,[7,0]]]\n",
    "[[7,2],[[9,5],8]]\n",
    "[[6,[[0,6],0]],[[[2,0],[4,1]],[[9,5],4]]]\n",
    "[[[6,[0,0]],5],[[[5,2],[7,3]],[[2,8],[3,2]]]]\n",
    "[[[2,7],[[8,2],2]],[[5,[0,6]],[[9,8],[0,4]]]]\n",
    "[[[8,9],[[4,1],2]],[[[3,4],[4,5]],[[7,4],0]]]\n",
    "[[5,[2,[2,1]]],[[5,6],[[6,2],[3,0]]]]\n",
    "[[8,[0,0]],[[6,1],[9,[1,3]]]]\n",
    "[[[9,[5,8]],5],[[8,[6,6]],[7,5]]]\n",
    "[3,2]\n",
    "[[8,[[6,3],[8,4]]],[[2,7],[8,[9,5]]]]\n",
    "[[[4,[9,1]],[[3,6],[8,8]]],[[[9,0],6],[[3,7],6]]]\n",
    "[[9,[[4,9],6]],[[8,2],[1,3]]]\n",
    "[[[2,[4,3]],[[5,6],[7,3]]],7]\n",
    "[[[[0,1],7],[[9,1],9]],[[[0,1],[6,5]],1]]\n",
    "[[[7,[5,3]],[[6,6],6]],[[2,7],3]]\n",
    "[[1,[[5,8],[1,7]]],[[[5,0],[4,7]],[[3,3],[3,7]]]]\n",
    "[[[[8,8],[2,6]],[1,2]],[[[2,6],4],[1,[1,8]]]]\n",
    "[5,[[8,[8,2]],0]]\n",
    "[[6,[[5,9],[8,4]]],[7,[5,9]]]\n",
    "[[7,3],[[[2,5],4],[[1,1],8]]]\n",
    "[[[0,1],7],[0,8]]\n",
    "[[7,[6,6]],[2,9]]\n",
    "[[[[1,9],1],[[4,8],5]],[[0,[8,3]],[[0,9],[1,5]]]]\n",
    "[[[0,9],[[6,7],5]],[4,[[1,1],[0,6]]]]\n",
    "[[[6,1],7],[[[1,4],8],[[9,0],4]]]\n",
    "[5,[3,[[0,7],[4,9]]]]\n",
    "[[[[6,0],[1,5]],[[1,5],1]],[[1,[7,1]],[[6,2],7]]]\n",
    "[[[9,0],8],[[[4,1],[5,4]],[4,[5,1]]]]\n",
    "[3,[5,9]]\n",
    "[6,[6,5]]\n",
    "[[1,[8,0]],[9,0]]\n",
    "[[[[1,8],3],0],[7,[[0,8],6]]]\n",
    "[[[[4,2],2],3],[[2,5],[[9,2],4]]]\n",
    "[[1,[[1,1],[8,4]]],[[[8,1],0],[0,2]]]\n",
    "[[[[0,7],[8,7]],[9,6]],0]\n",
    "[[3,7],[[1,[0,9]],[1,[7,6]]]]\n",
    "[[[[3,5],[4,6]],[[7,1],[8,0]]],6]\n",
    "[[7,[5,[7,7]]],[4,[5,3]]]\n",
    "[1,[[[0,0],[4,6]],[7,[1,9]]]]\n",
    "[[[3,7],[7,[0,6]]],[7,[5,3]]]\n",
    "[[[[5,3],0],2],[[[2,7],[7,9]],[[1,4],3]]]\n",
    "[[[[8,3],9],[[8,3],[7,4]]],[[4,[6,0]],[7,[3,7]]]]\n",
    "[[[6,[5,0]],8],[[[4,5],3],[1,[5,9]]]]\n",
    "[[7,8],[[6,8],[[8,4],[3,1]]]]\n",
    "[[[2,7],[6,3]],[[0,0],4]]\n",
    "[[1,[[6,5],[4,8]]],[[8,[2,7]],[[7,8],[6,8]]]]\n",
    "[[[2,3],[7,7]],[0,[3,3]]]\n",
    "[5,[[2,8],[2,[6,9]]]]\n",
    "[[[[6,3],2],[[2,8],9]],[[[5,6],[8,0]],[[9,3],[5,0]]]]\n",
    "[[[[6,2],7],[6,1]],[[[5,9],4],4]]\n",
    "[[[[7,2],[0,4]],[[6,7],7]],[6,[[8,5],[9,0]]]]\n",
    "[[[[9,6],8],[2,[3,7]]],6]\n",
    "[[0,[[1,0],4]],[5,[[7,4],[2,4]]]]\n",
    "[[[[4,4],[4,7]],[[7,4],3]],5]\n",
    "[[[[8,2],[0,3]],[[7,2],1]],[[7,[1,2]],6]]\n",
    "[[[3,8],[3,1]],[7,7]]\n",
    "[[[6,5],[[8,7],4]],3]\n",
    "[[7,[2,[2,5]]],[9,1]]\n",
    "[9,2]\n",
    "[[4,[2,9]],[[4,[2,9]],0]]\n",
    "[[[0,2],[[2,1],[9,2]]],[[6,[8,2]],[4,[3,8]]]]\n",
    "[1,[[[2,2],6],[[3,5],6]]]\n",
    "[[[9,[4,8]],[1,4]],[4,[1,[9,1]]]]\n",
    "[[[8,0],[[8,4],3]],9]\"\"\""
   ]
  },
  {
   "cell_type": "code",
   "execution_count": null,
   "id": "b60620a6",
   "metadata": {},
   "outputs": [],
   "source": [
    "answer = iterate(inp.split()).map(Snf).reduce(lambda a,b: a+b)"
   ]
  },
  {
   "cell_type": "code",
   "execution_count": null,
   "id": "c7cc3240",
   "metadata": {},
   "outputs": [],
   "source": [
    "answer"
   ]
  },
  {
   "cell_type": "code",
   "execution_count": null,
   "id": "75cc3e35",
   "metadata": {},
   "outputs": [],
   "source": [
    "magnitude(eval(str(answer)))"
   ]
  },
  {
   "cell_type": "code",
   "execution_count": null,
   "id": "e5a8c1ee",
   "metadata": {},
   "outputs": [],
   "source": [
    "Snf(\"[[2,[[7,7],7]],[[5,8],[[9,3],[0,2]]]]\") + Snf(\"[[[0,[5,8]],[[1,7],[9,6]]],[[4,[1,2]],[[1,4],2]]]\")"
   ]
  },
  {
   "cell_type": "code",
   "execution_count": null,
   "id": "b22f66ce",
   "metadata": {},
   "outputs": [],
   "source": [
    "iterate([1,2]).product([3,4]).to_list()"
   ]
  },
  {
   "cell_type": "code",
   "execution_count": 8,
   "id": "bc250fe7",
   "metadata": {},
   "outputs": [],
   "source": [
    "from itertools import combinations"
   ]
  },
  {
   "cell_type": "code",
   "execution_count": 11,
   "id": "13b2d33b",
   "metadata": {},
   "outputs": [],
   "source": [
    "g = (\n",
    "    iterate(combinations(inp.split(),2))\n",
    "    .starmap(lambda a,b: Snf(a)+Snf(b))\n",
    "    .map(lambda number: magnitude(eval(str(number))))\n",
    "    .to_list()\n",
    ")"
   ]
  },
  {
   "cell_type": "code",
   "execution_count": 12,
   "id": "8e4c64a9",
   "metadata": {},
   "outputs": [],
   "source": [
    "g.sort()"
   ]
  },
  {
   "cell_type": "code",
   "execution_count": 15,
   "id": "b3c95f48",
   "metadata": {},
   "outputs": [
    {
     "data": {
      "text/plain": [
       "4712"
      ]
     },
     "execution_count": 15,
     "metadata": {},
     "output_type": "execute_result"
    }
   ],
   "source": [
    "g[-2]"
   ]
  },
  {
   "cell_type": "code",
   "execution_count": 10,
   "id": "afb33fab",
   "metadata": {},
   "outputs": [],
   "source": [
    "# 4746 too high"
   ]
  },
  {
   "cell_type": "code",
   "execution_count": null,
   "id": "1a973aa5",
   "metadata": {},
   "outputs": [],
   "source": []
  }
 ],
 "metadata": {
  "kernelspec": {
   "display_name": "Python 3 (ipykernel)",
   "language": "python",
   "name": "python3"
  },
  "language_info": {
   "codemirror_mode": {
    "name": "ipython",
    "version": 3
   },
   "file_extension": ".py",
   "mimetype": "text/x-python",
   "name": "python",
   "nbconvert_exporter": "python",
   "pygments_lexer": "ipython3",
   "version": "3.9.7"
  }
 },
 "nbformat": 4,
 "nbformat_minor": 5
}
